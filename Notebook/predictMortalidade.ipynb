{
 "cells": [
  {
   "cell_type": "code",
   "execution_count": 13,
   "metadata": {},
   "outputs": [],
   "source": [
    "import pandas as pd  \n",
    "import numpy as np  \n",
    "import matplotlib.pyplot as plt  \n",
    "%matplotlib inline"
   ]
  },
  {
   "cell_type": "code",
   "execution_count": 27,
   "metadata": {
    "scrolled": false
   },
   "outputs": [
    {
     "data": {
      "text/html": [
       "<div>\n",
       "<style scoped>\n",
       "    .dataframe tbody tr th:only-of-type {\n",
       "        vertical-align: middle;\n",
       "    }\n",
       "\n",
       "    .dataframe tbody tr th {\n",
       "        vertical-align: top;\n",
       "    }\n",
       "\n",
       "    .dataframe thead th {\n",
       "        text-align: right;\n",
       "    }\n",
       "</style>\n",
       "<table border=\"1\" class=\"dataframe\">\n",
       "  <thead>\n",
       "    <tr style=\"text-align: right;\">\n",
       "      <th></th>\n",
       "      <th>Ano</th>\n",
       "      <th>Total_Natalidade (Brasil)</th>\n",
       "      <th>Natalidade_Mulher (Brasil)</th>\n",
       "      <th>Total_Mortalidade (Brasil)</th>\n",
       "      <th>Mortalidade_Mulher (Brasil)</th>\n",
       "      <th>Total_Natalidade JF</th>\n",
       "      <th>Natalidade_Mulher JF</th>\n",
       "      <th>Total_Mortalidade JF</th>\n",
       "      <th>Mortalidade_Mulher JF</th>\n",
       "    </tr>\n",
       "  </thead>\n",
       "  <tbody>\n",
       "    <tr>\n",
       "      <th>0</th>\n",
       "      <td>2005</td>\n",
       "      <td>185150822</td>\n",
       "      <td>93381535</td>\n",
       "      <td>47578</td>\n",
       "      <td>3884</td>\n",
       "      <td>499972</td>\n",
       "      <td>260620</td>\n",
       "      <td>25</td>\n",
       "      <td>2</td>\n",
       "    </tr>\n",
       "    <tr>\n",
       "      <th>1</th>\n",
       "      <td>2006</td>\n",
       "      <td>187335121</td>\n",
       "      <td>94521963</td>\n",
       "      <td>49145</td>\n",
       "      <td>4022</td>\n",
       "      <td>506488</td>\n",
       "      <td>263972</td>\n",
       "      <td>38</td>\n",
       "      <td>4</td>\n",
       "    </tr>\n",
       "    <tr>\n",
       "      <th>2</th>\n",
       "      <td>2007</td>\n",
       "      <td>189462729</td>\n",
       "      <td>95633484</td>\n",
       "      <td>47707</td>\n",
       "      <td>3772</td>\n",
       "      <td>512787</td>\n",
       "      <td>267269</td>\n",
       "      <td>47</td>\n",
       "      <td>5</td>\n",
       "    </tr>\n",
       "    <tr>\n",
       "      <th>3</th>\n",
       "      <td>2008</td>\n",
       "      <td>191532420</td>\n",
       "      <td>96715463</td>\n",
       "      <td>50113</td>\n",
       "      <td>4023</td>\n",
       "      <td>518869</td>\n",
       "      <td>270446</td>\n",
       "      <td>57</td>\n",
       "      <td>9</td>\n",
       "    </tr>\n",
       "    <tr>\n",
       "      <th>4</th>\n",
       "      <td>2009</td>\n",
       "      <td>193543989</td>\n",
       "      <td>97767929</td>\n",
       "      <td>51434</td>\n",
       "      <td>4260</td>\n",
       "      <td>524740</td>\n",
       "      <td>273519</td>\n",
       "      <td>45</td>\n",
       "      <td>8</td>\n",
       "    </tr>\n",
       "  </tbody>\n",
       "</table>\n",
       "</div>"
      ],
      "text/plain": [
       "    Ano  Total_Natalidade (Brasil)  Natalidade_Mulher (Brasil)  \\\n",
       "0  2005                  185150822                    93381535   \n",
       "1  2006                  187335121                    94521963   \n",
       "2  2007                  189462729                    95633484   \n",
       "3  2008                  191532420                    96715463   \n",
       "4  2009                  193543989                    97767929   \n",
       "\n",
       "   Total_Mortalidade (Brasil)  Mortalidade_Mulher (Brasil)  \\\n",
       "0                       47578                         3884   \n",
       "1                       49145                         4022   \n",
       "2                       47707                         3772   \n",
       "3                       50113                         4023   \n",
       "4                       51434                         4260   \n",
       "\n",
       "   Total_Natalidade JF  Natalidade_Mulher JF  Total_Mortalidade JF  \\\n",
       "0               499972                260620                    25   \n",
       "1               506488                263972                    38   \n",
       "2               512787                267269                    47   \n",
       "3               518869                270446                    57   \n",
       "4               524740                273519                    45   \n",
       "\n",
       "   Mortalidade_Mulher JF  \n",
       "0                      2  \n",
       "1                      4  \n",
       "2                      5  \n",
       "3                      9  \n",
       "4                      8  "
      ]
     },
     "execution_count": 27,
     "metadata": {},
     "output_type": "execute_result"
    }
   ],
   "source": [
    "dataset = pd.read_csv('../dataBase/mortalidade.csv')\n",
    "dataset.head()"
   ]
  },
  {
   "cell_type": "code",
   "execution_count": 41,
   "metadata": {},
   "outputs": [],
   "source": [
    "X = dataset[['Total_Natalidade (Brasil)', 'Natalidade_Mulher (Brasil)', 'Total_Mortalidade (Brasil)']]\n",
    "y = dataset['Mortalidade_Mulher (Brasil)']"
   ]
  },
  {
   "cell_type": "code",
   "execution_count": 42,
   "metadata": {},
   "outputs": [],
   "source": [
    "from sklearn.model_selection import train_test_split\n",
    "\n",
    "X_train, X_test, y_train, y_test = train_test_split(X, y, test_size=0.2, random_state=0)"
   ]
  },
  {
   "cell_type": "code",
   "execution_count": 43,
   "metadata": {},
   "outputs": [
    {
     "data": {
      "text/plain": [
       "LinearRegression(copy_X=True, fit_intercept=True, n_jobs=1, normalize=False)"
      ]
     },
     "execution_count": 43,
     "metadata": {},
     "output_type": "execute_result"
    }
   ],
   "source": [
    "from sklearn.linear_model import LinearRegression  \n",
    "\n",
    "regressor = LinearRegression()  \n",
    "regressor.fit(X_train, y_train)"
   ]
  },
  {
   "cell_type": "code",
   "execution_count": 44,
   "metadata": {},
   "outputs": [
    {
     "data": {
      "text/html": [
       "<div>\n",
       "<style scoped>\n",
       "    .dataframe tbody tr th:only-of-type {\n",
       "        vertical-align: middle;\n",
       "    }\n",
       "\n",
       "    .dataframe tbody tr th {\n",
       "        vertical-align: top;\n",
       "    }\n",
       "\n",
       "    .dataframe thead th {\n",
       "        text-align: right;\n",
       "    }\n",
       "</style>\n",
       "<table border=\"1\" class=\"dataframe\">\n",
       "  <thead>\n",
       "    <tr style=\"text-align: right;\">\n",
       "      <th></th>\n",
       "      <th>Coefficient</th>\n",
       "    </tr>\n",
       "  </thead>\n",
       "  <tbody>\n",
       "    <tr>\n",
       "      <th>Total_Natalidade (Brasil)</th>\n",
       "      <td>0.009658</td>\n",
       "    </tr>\n",
       "    <tr>\n",
       "      <th>Natalidade_Mulher (Brasil)</th>\n",
       "      <td>-0.018425</td>\n",
       "    </tr>\n",
       "    <tr>\n",
       "      <th>Total_Mortalidade (Brasil)</th>\n",
       "      <td>0.075472</td>\n",
       "    </tr>\n",
       "  </tbody>\n",
       "</table>\n",
       "</div>"
      ],
      "text/plain": [
       "                            Coefficient\n",
       "Total_Natalidade (Brasil)      0.009658\n",
       "Natalidade_Mulher (Brasil)    -0.018425\n",
       "Total_Mortalidade (Brasil)     0.075472"
      ]
     },
     "execution_count": 44,
     "metadata": {},
     "output_type": "execute_result"
    }
   ],
   "source": [
    "coeff_df = pd.DataFrame(regressor.coef_, X.columns, columns=['Coefficient'])  \n",
    "coeff_df"
   ]
  },
  {
   "cell_type": "code",
   "execution_count": 45,
   "metadata": {},
   "outputs": [],
   "source": [
    "y_pred = regressor.predict(X_test)"
   ]
  },
  {
   "cell_type": "code",
   "execution_count": 46,
   "metadata": {},
   "outputs": [
    {
     "data": {
      "text/html": [
       "<div>\n",
       "<style scoped>\n",
       "    .dataframe tbody tr th:only-of-type {\n",
       "        vertical-align: middle;\n",
       "    }\n",
       "\n",
       "    .dataframe tbody tr th {\n",
       "        vertical-align: top;\n",
       "    }\n",
       "\n",
       "    .dataframe thead th {\n",
       "        text-align: right;\n",
       "    }\n",
       "</style>\n",
       "<table border=\"1\" class=\"dataframe\">\n",
       "  <thead>\n",
       "    <tr style=\"text-align: right;\">\n",
       "      <th></th>\n",
       "      <th>Actual</th>\n",
       "      <th>Predicted</th>\n",
       "    </tr>\n",
       "  </thead>\n",
       "  <tbody>\n",
       "    <tr>\n",
       "      <th>4</th>\n",
       "      <td>4260</td>\n",
       "      <td>4350.276800</td>\n",
       "    </tr>\n",
       "    <tr>\n",
       "      <th>9</th>\n",
       "      <td>4832</td>\n",
       "      <td>4869.510564</td>\n",
       "    </tr>\n",
       "    <tr>\n",
       "      <th>2</th>\n",
       "      <td>3772</td>\n",
       "      <td>3978.943655</td>\n",
       "    </tr>\n",
       "  </tbody>\n",
       "</table>\n",
       "</div>"
      ],
      "text/plain": [
       "   Actual    Predicted\n",
       "4    4260  4350.276800\n",
       "9    4832  4869.510564\n",
       "2    3772  3978.943655"
      ]
     },
     "execution_count": 46,
     "metadata": {},
     "output_type": "execute_result"
    }
   ],
   "source": [
    "df = pd.DataFrame({'Actual': y_test, 'Predicted': y_pred})  \n",
    "df"
   ]
  },
  {
   "cell_type": "code",
   "execution_count": 47,
   "metadata": {},
   "outputs": [
    {
     "name": "stdout",
     "output_type": "stream",
     "text": [
      "Mean Absolute Error: 111.5770063100208\n",
      "Mean Squared Error: 17460.873148727005\n",
      "Root Mean Squared Error: 132.13959720207643\n"
     ]
    }
   ],
   "source": [
    "from sklearn import metrics  \n",
    "print('Mean Absolute Error:', metrics.mean_absolute_error(y_test, y_pred))  \n",
    "print('Mean Squared Error:', metrics.mean_squared_error(y_test, y_pred))  \n",
    "print('Root Mean Squared Error:', np.sqrt(metrics.mean_squared_error(y_test, y_pred)))"
   ]
  },
  {
   "cell_type": "code",
   "execution_count": null,
   "metadata": {},
   "outputs": [],
   "source": []
  }
 ],
 "metadata": {
  "kernelspec": {
   "display_name": "Python 3",
   "language": "python",
   "name": "python3"
  },
  "language_info": {
   "codemirror_mode": {
    "name": "ipython",
    "version": 3
   },
   "file_extension": ".py",
   "mimetype": "text/x-python",
   "name": "python",
   "nbconvert_exporter": "python",
   "pygments_lexer": "ipython3",
   "version": "3.6.5"
  }
 },
 "nbformat": 4,
 "nbformat_minor": 2
}
